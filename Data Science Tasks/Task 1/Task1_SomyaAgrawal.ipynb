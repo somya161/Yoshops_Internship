{
 "cells": [
  {
   "cell_type": "markdown",
   "id": "f40e5c6e",
   "metadata": {},
   "source": [
    "# YoShops Internship\n",
    "\n",
    "\n",
    "\n",
    "\n",
    "<figure>\n",
    "   <img src=\"th-3.jpeg\"  style=\"width:640px;height:300px;\" >\n",
    "</figure>"
   ]
  },
  {
   "cell_type": "markdown",
   "id": "4e4d77ee",
   "metadata": {},
   "source": [
    "## Tasks to do:\n",
    "\n",
    "1. Write a python program to display products count number by products main categories and sub categories.\n",
    "2. Enter 1 put value link = Yoshops.com\n",
    "3. Enter 2 put categories link=\n",
    "4. Output = create excel file with Name Category, Products count,Total products count.\n",
    "\n",
    "After completing task please convert your PY file to EXE file and uploaded both py file and Exe file in mega.io and send link to me on WhatsApp\n",
    "\n",
    "Please go through below video link to understand  exe file convert process\n",
    "https://youtu.be/GASjjIGcfBo"
   ]
  },
  {
   "cell_type": "markdown",
   "id": "bbcd0062",
   "metadata": {},
   "source": [
    "#### !pip install autoscraper"
   ]
  },
  {
   "cell_type": "code",
   "execution_count": 1,
   "id": "ad5f9c01",
   "metadata": {},
   "outputs": [],
   "source": [
    "from autoscraper import AutoScraper"
   ]
  },
  {
   "cell_type": "code",
   "execution_count": 2,
   "id": "23f2bfdf",
   "metadata": {},
   "outputs": [],
   "source": [
    "url1 = \"https://yoshops.com/t/books\"\n",
    "wanted_list1 = ['Universal Abacus Maths Book Level-3 Book-A',\n",
    "'₹499.00₹299.00']"
   ]
  },
  {
   "cell_type": "code",
   "execution_count": 3,
   "id": "13a81ae4",
   "metadata": {},
   "outputs": [],
   "source": [
    "scraper = AutoScraper()"
   ]
  },
  {
   "cell_type": "code",
   "execution_count": 4,
   "id": "66dc6cf5",
   "metadata": {},
   "outputs": [
    {
     "data": {
      "text/plain": [
       "['QUECHUA LAPTOP Bag BACKPACK 20 Litre - GREY',\n",
       " 'Chetan Bhagat Book Series',\n",
       " 'Universal Abacus Mathematics and Vedic Math Level-1 Book Brain Game',\n",
       " 'Universal Abacus Maths Book Level-2 Book-A',\n",
       " 'Universal Abacus Maths Book Level-3 Book-A',\n",
       " 'Universal Abacus Maths Book Level-4 Book-A',\n",
       " 'Universal Abacus Maths Book Level-5 Book-A',\n",
       " 'Universal Abacus Maths Book Level-6 Book-A',\n",
       " 'Universal Abacus Maths Book Level-7 Book-A',\n",
       " 'Universal Abacus Maths Book Level-8 Book-A',\n",
       " '₹3,458.00₹799.00',\n",
       " '₹300.00₹150.00',\n",
       " '₹499.00₹299.00']"
      ]
     },
     "execution_count": 4,
     "metadata": {},
     "output_type": "execute_result"
    }
   ],
   "source": [
    "result1 = scraper.build(url1, wanted_list1)\n",
    "result1"
   ]
  },
  {
   "cell_type": "code",
   "execution_count": 5,
   "id": "b6a06c0c",
   "metadata": {},
   "outputs": [
    {
     "data": {
      "text/plain": [
       "{'rule_xb91': ['QUECHUA LAPTOP Bag BACKPACK 20 Litre - GREY',\n",
       "  'Chetan Bhagat Book Series',\n",
       "  'Universal Abacus Mathematics and Vedic Math Level-1 Book Brain Game',\n",
       "  'Universal Abacus Maths Book Level-2 Book-A',\n",
       "  'Universal Abacus Maths Book Level-3 Book-A',\n",
       "  'Universal Abacus Maths Book Level-4 Book-A',\n",
       "  'Universal Abacus Maths Book Level-5 Book-A',\n",
       "  'Universal Abacus Maths Book Level-6 Book-A',\n",
       "  'Universal Abacus Maths Book Level-7 Book-A',\n",
       "  'Universal Abacus Maths Book Level-8 Book-A'],\n",
       " 'rule_ak4z': ['QUECHUA LAPTOP Bag BACKPACK 20 Litre - GREY',\n",
       "  'Chetan Bhagat Book Series',\n",
       "  'Universal Abacus Mathematics and Vedic Math Level-1 Book Brain Game',\n",
       "  'Universal Abacus Maths Book Level-2 Book-A',\n",
       "  'Universal Abacus Maths Book Level-3 Book-A',\n",
       "  'Universal Abacus Maths Book Level-4 Book-A',\n",
       "  'Universal Abacus Maths Book Level-5 Book-A',\n",
       "  'Universal Abacus Maths Book Level-6 Book-A',\n",
       "  'Universal Abacus Maths Book Level-7 Book-A',\n",
       "  'Universal Abacus Maths Book Level-8 Book-A'],\n",
       " 'rule_p0e5': ['QUECHUA LAPTOP Bag BACKPACK 20 Litre - GREY',\n",
       "  'Chetan Bhagat Book Series',\n",
       "  'Universal Abacus Mathematics and Vedic Math Level-1 Book Brain Game',\n",
       "  'Universal Abacus Maths Book Level-2 Book-A',\n",
       "  'Universal Abacus Maths Book Level-3 Book-A',\n",
       "  'Universal Abacus Maths Book Level-4 Book-A',\n",
       "  'Universal Abacus Maths Book Level-5 Book-A',\n",
       "  'Universal Abacus Maths Book Level-6 Book-A',\n",
       "  'Universal Abacus Maths Book Level-7 Book-A',\n",
       "  'Universal Abacus Maths Book Level-8 Book-A'],\n",
       " 'rule_rqb3': ['₹3,458.00₹799.00',\n",
       "  '₹300.00₹150.00',\n",
       "  '₹499.00₹299.00',\n",
       "  '₹499.00₹299.00',\n",
       "  '₹499.00₹299.00',\n",
       "  '₹499.00₹299.00',\n",
       "  '₹499.00₹299.00',\n",
       "  '₹499.00₹299.00',\n",
       "  '₹499.00₹299.00',\n",
       "  '₹499.00₹299.00'],\n",
       " 'rule_2ieq': ['₹3,458.00₹799.00',\n",
       "  '₹300.00₹150.00',\n",
       "  '₹499.00₹299.00',\n",
       "  '₹499.00₹299.00',\n",
       "  '₹499.00₹299.00',\n",
       "  '₹499.00₹299.00',\n",
       "  '₹499.00₹299.00',\n",
       "  '₹499.00₹299.00',\n",
       "  '₹499.00₹299.00',\n",
       "  '₹499.00₹299.00'],\n",
       " 'rule_jp8i': ['₹3,458.00₹799.00',\n",
       "  '₹300.00₹150.00',\n",
       "  '₹499.00₹299.00',\n",
       "  '₹499.00₹299.00',\n",
       "  '₹499.00₹299.00',\n",
       "  '₹499.00₹299.00',\n",
       "  '₹499.00₹299.00',\n",
       "  '₹499.00₹299.00',\n",
       "  '₹499.00₹299.00',\n",
       "  '₹499.00₹299.00'],\n",
       " 'rule_8h2r': ['₹3,458.00₹799.00',\n",
       "  '₹300.00₹150.00',\n",
       "  '₹499.00₹299.00',\n",
       "  '₹499.00₹299.00',\n",
       "  '₹499.00₹299.00',\n",
       "  '₹499.00₹299.00',\n",
       "  '₹499.00₹299.00',\n",
       "  '₹499.00₹299.00',\n",
       "  '₹499.00₹299.00',\n",
       "  '₹499.00₹299.00'],\n",
       " 'rule_dh1x': ['₹3,458.00₹799.00',\n",
       "  '₹300.00₹150.00',\n",
       "  '₹499.00₹299.00',\n",
       "  '₹499.00₹299.00',\n",
       "  '₹499.00₹299.00',\n",
       "  '₹499.00₹299.00',\n",
       "  '₹499.00₹299.00',\n",
       "  '₹499.00₹299.00',\n",
       "  '₹499.00₹299.00',\n",
       "  '₹499.00₹299.00'],\n",
       " 'rule_0gig': ['₹3,458.00₹799.00',\n",
       "  '₹300.00₹150.00',\n",
       "  '₹499.00₹299.00',\n",
       "  '₹499.00₹299.00',\n",
       "  '₹499.00₹299.00',\n",
       "  '₹499.00₹299.00',\n",
       "  '₹499.00₹299.00',\n",
       "  '₹499.00₹299.00',\n",
       "  '₹499.00₹299.00',\n",
       "  '₹499.00₹299.00'],\n",
       " 'rule_pqib': ['₹3,458.00₹799.00',\n",
       "  '₹300.00₹150.00',\n",
       "  '₹499.00₹299.00',\n",
       "  '₹499.00₹299.00',\n",
       "  '₹499.00₹299.00',\n",
       "  '₹499.00₹299.00',\n",
       "  '₹499.00₹299.00',\n",
       "  '₹499.00₹299.00',\n",
       "  '₹499.00₹299.00',\n",
       "  '₹499.00₹299.00'],\n",
       " 'rule_91zv': ['₹3,458.00₹799.00',\n",
       "  '₹300.00₹150.00',\n",
       "  '₹499.00₹299.00',\n",
       "  '₹499.00₹299.00',\n",
       "  '₹499.00₹299.00',\n",
       "  '₹499.00₹299.00',\n",
       "  '₹499.00₹299.00',\n",
       "  '₹499.00₹299.00',\n",
       "  '₹499.00₹299.00',\n",
       "  '₹499.00₹299.00']}"
      ]
     },
     "execution_count": 5,
     "metadata": {},
     "output_type": "execute_result"
    }
   ],
   "source": [
    "scraper.get_result_similar(url1, grouped = True)"
   ]
  },
  {
   "cell_type": "code",
   "execution_count": 6,
   "id": "9d6c8962",
   "metadata": {},
   "outputs": [],
   "source": [
    "import pandas as pd"
   ]
  },
  {
   "cell_type": "code",
   "execution_count": 7,
   "id": "bbbe8fe4",
   "metadata": {},
   "outputs": [],
   "source": [
    "Book = {'Book Name' : ['Chetan Bhagat Book Series',\n",
    "  'Universal Abacus Mathematics and Vedic Math Level-1 Book Brain Game',\n",
    "  'Universal Abacus Maths Book Level-2 Book-A',\n",
    "  'Universal Abacus Maths Book Level-3 Book-A',\n",
    "  'Universal Abacus Maths Book Level-4 Book-A',\n",
    "  'Universal Abacus Maths Book Level-5 Book-A',\n",
    "  'Universal Abacus Maths Book Level-6 Book-A',\n",
    "  'Universal Abacus Maths Book Level-7 Book-A',\n",
    "  'Universal Abacus Maths Book Level-8 Book-A'],\n",
    "  'Book Price' : ['₹300.00', '₹499.00', '₹499.00', '₹499.00',\n",
    "                  '₹499.00', '₹499.00', '₹499.00', '₹499.00', '₹499.00'],\n",
    "  'Discount Price' : ['₹150.00', '₹299.00', '₹299.00', '₹299.00',\n",
    "                     '₹299.00', '₹299.00', '₹299.00', '₹299.00','₹299.00']}\n"
   ]
  },
  {
   "cell_type": "code",
   "execution_count": 8,
   "id": "33df3542",
   "metadata": {},
   "outputs": [
    {
     "data": {
      "text/plain": [
       "{'Book Name': ['Chetan Bhagat Book Series',\n",
       "  'Universal Abacus Mathematics and Vedic Math Level-1 Book Brain Game',\n",
       "  'Universal Abacus Maths Book Level-2 Book-A',\n",
       "  'Universal Abacus Maths Book Level-3 Book-A',\n",
       "  'Universal Abacus Maths Book Level-4 Book-A',\n",
       "  'Universal Abacus Maths Book Level-5 Book-A',\n",
       "  'Universal Abacus Maths Book Level-6 Book-A',\n",
       "  'Universal Abacus Maths Book Level-7 Book-A',\n",
       "  'Universal Abacus Maths Book Level-8 Book-A'],\n",
       " 'Book Price': ['₹300.00',\n",
       "  '₹499.00',\n",
       "  '₹499.00',\n",
       "  '₹499.00',\n",
       "  '₹499.00',\n",
       "  '₹499.00',\n",
       "  '₹499.00',\n",
       "  '₹499.00',\n",
       "  '₹499.00'],\n",
       " 'Discount Price': ['₹150.00',\n",
       "  '₹299.00',\n",
       "  '₹299.00',\n",
       "  '₹299.00',\n",
       "  '₹299.00',\n",
       "  '₹299.00',\n",
       "  '₹299.00',\n",
       "  '₹299.00',\n",
       "  '₹299.00']}"
      ]
     },
     "execution_count": 8,
     "metadata": {},
     "output_type": "execute_result"
    }
   ],
   "source": [
    "Book"
   ]
  },
  {
   "cell_type": "code",
   "execution_count": 9,
   "id": "27b59989",
   "metadata": {},
   "outputs": [],
   "source": [
    "book_df = pd.DataFrame(Book)"
   ]
  },
  {
   "cell_type": "code",
   "execution_count": 10,
   "id": "b2df26b8",
   "metadata": {},
   "outputs": [
    {
     "data": {
      "text/html": [
       "<div>\n",
       "<style scoped>\n",
       "    .dataframe tbody tr th:only-of-type {\n",
       "        vertical-align: middle;\n",
       "    }\n",
       "\n",
       "    .dataframe tbody tr th {\n",
       "        vertical-align: top;\n",
       "    }\n",
       "\n",
       "    .dataframe thead th {\n",
       "        text-align: right;\n",
       "    }\n",
       "</style>\n",
       "<table border=\"1\" class=\"dataframe\">\n",
       "  <thead>\n",
       "    <tr style=\"text-align: right;\">\n",
       "      <th></th>\n",
       "      <th>Book Name</th>\n",
       "      <th>Book Price</th>\n",
       "      <th>Discount Price</th>\n",
       "    </tr>\n",
       "  </thead>\n",
       "  <tbody>\n",
       "    <tr>\n",
       "      <th>0</th>\n",
       "      <td>Chetan Bhagat Book Series</td>\n",
       "      <td>₹300.00</td>\n",
       "      <td>₹150.00</td>\n",
       "    </tr>\n",
       "    <tr>\n",
       "      <th>1</th>\n",
       "      <td>Universal Abacus Mathematics and Vedic Math Le...</td>\n",
       "      <td>₹499.00</td>\n",
       "      <td>₹299.00</td>\n",
       "    </tr>\n",
       "    <tr>\n",
       "      <th>2</th>\n",
       "      <td>Universal Abacus Maths Book Level-2 Book-A</td>\n",
       "      <td>₹499.00</td>\n",
       "      <td>₹299.00</td>\n",
       "    </tr>\n",
       "    <tr>\n",
       "      <th>3</th>\n",
       "      <td>Universal Abacus Maths Book Level-3 Book-A</td>\n",
       "      <td>₹499.00</td>\n",
       "      <td>₹299.00</td>\n",
       "    </tr>\n",
       "    <tr>\n",
       "      <th>4</th>\n",
       "      <td>Universal Abacus Maths Book Level-4 Book-A</td>\n",
       "      <td>₹499.00</td>\n",
       "      <td>₹299.00</td>\n",
       "    </tr>\n",
       "    <tr>\n",
       "      <th>5</th>\n",
       "      <td>Universal Abacus Maths Book Level-5 Book-A</td>\n",
       "      <td>₹499.00</td>\n",
       "      <td>₹299.00</td>\n",
       "    </tr>\n",
       "    <tr>\n",
       "      <th>6</th>\n",
       "      <td>Universal Abacus Maths Book Level-6 Book-A</td>\n",
       "      <td>₹499.00</td>\n",
       "      <td>₹299.00</td>\n",
       "    </tr>\n",
       "    <tr>\n",
       "      <th>7</th>\n",
       "      <td>Universal Abacus Maths Book Level-7 Book-A</td>\n",
       "      <td>₹499.00</td>\n",
       "      <td>₹299.00</td>\n",
       "    </tr>\n",
       "    <tr>\n",
       "      <th>8</th>\n",
       "      <td>Universal Abacus Maths Book Level-8 Book-A</td>\n",
       "      <td>₹499.00</td>\n",
       "      <td>₹299.00</td>\n",
       "    </tr>\n",
       "  </tbody>\n",
       "</table>\n",
       "</div>"
      ],
      "text/plain": [
       "                                           Book Name Book Price Discount Price\n",
       "0                          Chetan Bhagat Book Series    ₹300.00        ₹150.00\n",
       "1  Universal Abacus Mathematics and Vedic Math Le...    ₹499.00        ₹299.00\n",
       "2         Universal Abacus Maths Book Level-2 Book-A    ₹499.00        ₹299.00\n",
       "3         Universal Abacus Maths Book Level-3 Book-A    ₹499.00        ₹299.00\n",
       "4         Universal Abacus Maths Book Level-4 Book-A    ₹499.00        ₹299.00\n",
       "5         Universal Abacus Maths Book Level-5 Book-A    ₹499.00        ₹299.00\n",
       "6         Universal Abacus Maths Book Level-6 Book-A    ₹499.00        ₹299.00\n",
       "7         Universal Abacus Maths Book Level-7 Book-A    ₹499.00        ₹299.00\n",
       "8         Universal Abacus Maths Book Level-8 Book-A    ₹499.00        ₹299.00"
      ]
     },
     "execution_count": 10,
     "metadata": {},
     "output_type": "execute_result"
    }
   ],
   "source": [
    "book_df"
   ]
  },
  {
   "cell_type": "code",
   "execution_count": 11,
   "id": "7a43d0e4",
   "metadata": {},
   "outputs": [],
   "source": [
    "book_df.to_excel('BooksInfo.xlsx', \"Book\", index = False)"
   ]
  },
  {
   "cell_type": "code",
   "execution_count": 12,
   "id": "88375e1c",
   "metadata": {},
   "outputs": [
    {
     "name": "stdout",
     "output_type": "stream",
     "text": [
      "Enter link here: https://yoshops.com/t/books\n"
     ]
    }
   ],
   "source": [
    "link1 = input(\"Enter link here: \")\n",
    "\n",
    "if link1 ==\"https://yoshops.com/t/books\":\n",
    "    book_df.to_excel('BooksInfo.xlsx', \"Book\", index = False)"
   ]
  },
  {
   "cell_type": "code",
   "execution_count": 13,
   "id": "647c1c42",
   "metadata": {},
   "outputs": [],
   "source": [
    "url2 = 'https://yoshops.com/t/stationery'\n",
    "wanted_list2 = ['Color Clay Set for Kids Children Colors Air Dry Clay',\n",
    "'₹356.00₹199.00']"
   ]
  },
  {
   "cell_type": "code",
   "execution_count": 14,
   "id": "53f94bb2",
   "metadata": {},
   "outputs": [],
   "source": [
    "result2 = scraper.build(url2, wanted_list2)"
   ]
  },
  {
   "cell_type": "code",
   "execution_count": 15,
   "id": "533353de",
   "metadata": {},
   "outputs": [
    {
     "data": {
      "text/plain": [
       "['Color Clay Set for Kids Children Colors Air Dry Clay',\n",
       " 'Fruits Shape Eraser For Kids Best Birthday Gifts',\n",
       " 'Magnetic Alphabet Letters and Numbers for Kids Learning',\n",
       " '₹356.00₹199.00',\n",
       " '₹356.00₹149.00',\n",
       " '₹400.00₹299.00']"
      ]
     },
     "execution_count": 15,
     "metadata": {},
     "output_type": "execute_result"
    }
   ],
   "source": [
    "result2"
   ]
  },
  {
   "cell_type": "code",
   "execution_count": 16,
   "id": "79f7e71c",
   "metadata": {},
   "outputs": [
    {
     "data": {
      "text/plain": [
       "{'rule_lgbf': ['Color Clay Set for Kids Children Colors Air Dry Clay',\n",
       "  'Fruits Shape Eraser For Kids Best Birthday Gifts',\n",
       "  'Magnetic Alphabet Letters and Numbers for Kids Learning'],\n",
       " 'rule_spl8': ['Color Clay Set for Kids Children Colors Air Dry Clay',\n",
       "  'Fruits Shape Eraser For Kids Best Birthday Gifts',\n",
       "  'Magnetic Alphabet Letters and Numbers for Kids Learning'],\n",
       " 'rule_gat2': ['Color Clay Set for Kids Children Colors Air Dry Clay',\n",
       "  'Fruits Shape Eraser For Kids Best Birthday Gifts',\n",
       "  'Magnetic Alphabet Letters and Numbers for Kids Learning'],\n",
       " 'rule_7uug': ['₹356.00₹199.00', '₹356.00₹149.00', '₹400.00₹299.00']}"
      ]
     },
     "execution_count": 16,
     "metadata": {},
     "output_type": "execute_result"
    }
   ],
   "source": [
    "scraper.get_result_similar(url2, grouped = True)"
   ]
  },
  {
   "cell_type": "code",
   "execution_count": 17,
   "id": "9076c2b9",
   "metadata": {},
   "outputs": [
    {
     "data": {
      "text/plain": [
       "{'Product Name': ['Color Clay Set for Kids Children Colors Air Dry Clay',\n",
       "  'Fruits Shape Eraser For Kids Best Birthday Gifts',\n",
       "  'Magnetic Alphabet Letters and Numbers for Kids Learning'],\n",
       " 'Product Price': ['₹356.00', '₹356.00', '₹400.00'],\n",
       " 'Discount Price': ['₹199.00', '₹149.00', '₹299.00']}"
      ]
     },
     "execution_count": 17,
     "metadata": {},
     "output_type": "execute_result"
    }
   ],
   "source": [
    "stationary = {'Product Name' : ['Color Clay Set for Kids Children Colors Air Dry Clay',\n",
    "  'Fruits Shape Eraser For Kids Best Birthday Gifts',\n",
    "  'Magnetic Alphabet Letters and Numbers for Kids Learning'],\n",
    " 'Product Price' : ['₹356.00', '₹356.00', '₹400.00'],\n",
    " 'Discount Price' : ['₹199.00', '₹149.00', '₹299.00']}\n",
    "stationary"
   ]
  },
  {
   "cell_type": "code",
   "execution_count": 18,
   "id": "69572fe6",
   "metadata": {},
   "outputs": [
    {
     "data": {
      "text/html": [
       "<div>\n",
       "<style scoped>\n",
       "    .dataframe tbody tr th:only-of-type {\n",
       "        vertical-align: middle;\n",
       "    }\n",
       "\n",
       "    .dataframe tbody tr th {\n",
       "        vertical-align: top;\n",
       "    }\n",
       "\n",
       "    .dataframe thead th {\n",
       "        text-align: right;\n",
       "    }\n",
       "</style>\n",
       "<table border=\"1\" class=\"dataframe\">\n",
       "  <thead>\n",
       "    <tr style=\"text-align: right;\">\n",
       "      <th></th>\n",
       "      <th>Product Name</th>\n",
       "      <th>Product Price</th>\n",
       "      <th>Discount Price</th>\n",
       "    </tr>\n",
       "  </thead>\n",
       "  <tbody>\n",
       "    <tr>\n",
       "      <th>0</th>\n",
       "      <td>Color Clay Set for Kids Children Colors Air Dr...</td>\n",
       "      <td>₹356.00</td>\n",
       "      <td>₹199.00</td>\n",
       "    </tr>\n",
       "    <tr>\n",
       "      <th>1</th>\n",
       "      <td>Fruits Shape Eraser For Kids Best Birthday Gifts</td>\n",
       "      <td>₹356.00</td>\n",
       "      <td>₹149.00</td>\n",
       "    </tr>\n",
       "    <tr>\n",
       "      <th>2</th>\n",
       "      <td>Magnetic Alphabet Letters and Numbers for Kids...</td>\n",
       "      <td>₹400.00</td>\n",
       "      <td>₹299.00</td>\n",
       "    </tr>\n",
       "  </tbody>\n",
       "</table>\n",
       "</div>"
      ],
      "text/plain": [
       "                                        Product Name Product Price  \\\n",
       "0  Color Clay Set for Kids Children Colors Air Dr...       ₹356.00   \n",
       "1   Fruits Shape Eraser For Kids Best Birthday Gifts       ₹356.00   \n",
       "2  Magnetic Alphabet Letters and Numbers for Kids...       ₹400.00   \n",
       "\n",
       "  Discount Price  \n",
       "0        ₹199.00  \n",
       "1        ₹149.00  \n",
       "2        ₹299.00  "
      ]
     },
     "execution_count": 18,
     "metadata": {},
     "output_type": "execute_result"
    }
   ],
   "source": [
    "stationary_df = pd.DataFrame(stationary)\n",
    "stationary_df"
   ]
  },
  {
   "cell_type": "code",
   "execution_count": 19,
   "id": "dbe97a07",
   "metadata": {},
   "outputs": [],
   "source": [
    "stationary_df.to_excel('StationaryInfo.xlsx', 'Stationary', index = False)"
   ]
  },
  {
   "cell_type": "code",
   "execution_count": 20,
   "id": "07af97ee",
   "metadata": {},
   "outputs": [
    {
     "name": "stdout",
     "output_type": "stream",
     "text": [
      "Enter link here: https://yoshops.com/t/stationery\n"
     ]
    }
   ],
   "source": [
    "link2 = input('Enter link here: ')\n",
    "\n",
    "if link2 == 'https://yoshops.com/t/stationery':\n",
    "    stationary_df.to_excel('StationaryInfo.xlsx', 'Stationary', index = False)"
   ]
  },
  {
   "cell_type": "code",
   "execution_count": 2,
   "id": "0ff28e3f",
   "metadata": {},
   "outputs": [
    {
     "ename": "NameError",
     "evalue": "name 'requests' is not defined",
     "output_type": "error",
     "traceback": [
      "\u001b[0;31m---------------------------------------------------------------------------\u001b[0m",
      "\u001b[0;31mNameError\u001b[0m                                 Traceback (most recent call last)",
      "Input \u001b[0;32mIn [2]\u001b[0m, in \u001b[0;36m<cell line: 5>\u001b[0;34m()\u001b[0m\n\u001b[1;32m      1\u001b[0m url1\u001b[38;5;241m=\u001b[39m\u001b[38;5;124m'\u001b[39m\u001b[38;5;124mhttps://yoshops.com/t/playstation\u001b[39m\u001b[38;5;124m'\u001b[39m\n\u001b[1;32m      3\u001b[0m headers\u001b[38;5;241m=\u001b[39m{\u001b[38;5;124m'\u001b[39m\u001b[38;5;124mUser-Agent\u001b[39m\u001b[38;5;124m'\u001b[39m: \u001b[38;5;124m'\u001b[39m\u001b[38;5;124mMozilla/5.0 (Macintosh; Intel Mac OS X 10_11_5) AppleWebKit/537.36 (KHTML, like Gecko) Chrome/50.0.2661.102 Safari/537.36\u001b[39m\u001b[38;5;124m'\u001b[39m}\n\u001b[0;32m----> 5\u001b[0m page\u001b[38;5;241m=\u001b[39m\u001b[43mrequests\u001b[49m\u001b[38;5;241m.\u001b[39mget(url1,headers\u001b[38;5;241m=\u001b[39mheaders)\n\u001b[1;32m      7\u001b[0m soup1\u001b[38;5;241m=\u001b[39mBeautifulSoup(page\u001b[38;5;241m.\u001b[39mcontent,\u001b[38;5;124m\"\u001b[39m\u001b[38;5;124mhtml.parser\u001b[39m\u001b[38;5;124m\"\u001b[39m)\n\u001b[1;32m      9\u001b[0m products \u001b[38;5;241m=\u001b[39m soup1\u001b[38;5;241m.\u001b[39mfind_all(\u001b[38;5;124m'\u001b[39m\u001b[38;5;124mspan\u001b[39m\u001b[38;5;124m'\u001b[39m, class_\u001b[38;5;241m=\u001b[39m\u001b[38;5;124m'\u001b[39m\u001b[38;5;124mproduct-title\u001b[39m\u001b[38;5;124m'\u001b[39m)\n",
      "\u001b[0;31mNameError\u001b[0m: name 'requests' is not defined"
     ]
    }
   ],
   "source": [
    "url1='https://yoshops.com/t/playstation'\n",
    "\n",
    "headers={'User-Agent': 'Mozilla/5.0 (Macintosh; Intel Mac OS X 10_11_5) AppleWebKit/537.36 (KHTML, like Gecko) Chrome/50.0.2661.102 Safari/537.36'}\n",
    "\n",
    "page=requests.get(url1,headers=headers)\n",
    "\n",
    "soup1=BeautifulSoup(page.content,\"html.parser\")\n",
    "\n",
    "products = soup1.find_all('span', class_='product-title')\n",
    "\n",
    "playstation=[]\n",
    "\n",
    "for i in range(0, len(products)):\n",
    "    playstation.append(products[i].text)\n",
    "\n",
    "    \n",
    "print(playstation)    \n",
    "  \n",
    "data1=pd.DataFrame({'Playstation':pla})"
   ]
  },
  {
   "cell_type": "code",
   "execution_count": null,
   "id": "68339580",
   "metadata": {},
   "outputs": [],
   "source": []
  }
 ],
 "metadata": {
  "kernelspec": {
   "display_name": "Python 3 (ipykernel)",
   "language": "python",
   "name": "python3"
  },
  "language_info": {
   "codemirror_mode": {
    "name": "ipython",
    "version": 3
   },
   "file_extension": ".py",
   "mimetype": "text/x-python",
   "name": "python",
   "nbconvert_exporter": "python",
   "pygments_lexer": "ipython3",
   "version": "3.9.12"
  }
 },
 "nbformat": 4,
 "nbformat_minor": 5
}
