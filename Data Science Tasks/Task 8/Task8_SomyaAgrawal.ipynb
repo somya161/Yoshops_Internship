{
 "cells": [
  {
   "cell_type": "code",
   "execution_count": null,
   "id": "766bdb7a",
   "metadata": {},
   "outputs": [],
   "source": [
    "import tkinter as tk\n",
    "from tkinter import messagebox\n",
    "import csv\n",
    "import datetime\n",
    "\n",
    "def generate_bill():\n",
    "    name = name_entry.get()\n",
    "    phone = phone_entry.get()\n",
    "    item_no = item_entry.get()\n",
    "    price = 0\n",
    "    if item_no == \"1\":\n",
    "        price = 200\n",
    "    elif item_no == \"2\":\n",
    "        price = 250\n",
    "    elif item_no == \"3\":\n",
    "        price = 300\n",
    "    else:\n",
    "        messagebox.showerror(\"Error\", \"Invalid item number\")\n",
    "        return\n",
    "\n",
    "    bill = \"Name: \" + name + \"\\nPhone: \" + phone + \"\\nItem: \" + item_no + \"\\nPrice: \" + str(price) + \"\\nDate: \" + str(datetime.datetime.now())\n",
    "    bill_label.config(text=bill)\n",
    "    save_bill(name, phone, item_no, price)\n",
    "\n",
    "def save_bill(name, phone, item_no, price):\n",
    "    with open(\"bills.csv\", \"a\", newline=\"\") as file:\n",
    "        writer = csv.writer(file)\n",
    "        writer.writerow([name, phone, item_no, price, datetime.datetime.now()])\n",
    "\n",
    "root = tk.Tk()\n",
    "root.title(\"Ambur Biryani Billing System\")\n",
    "\n",
    "name_label = tk.Label(root, text=\"Name:\")\n",
    "name_label.grid(row=0, column=0)\n",
    "name_entry = tk.Entry(root)\n",
    "name_entry.grid(row=0, column=1)\n",
    "\n",
    "phone_label = tk.Label(root, text=\"Phone:\")\n",
    "phone_label.grid(row=1, column=0)\n",
    "phone_entry = tk.Entry(root)\n",
    "phone_entry.grid(row=1, column=1)\n",
    "\n",
    "item_label = tk.Label(root, text=\"Item Number:\")\n",
    "item_label.grid(row=2, column=0)\n",
    "item_entry = tk.Entry(root)\n",
    "item_entry.grid(row=2, column=1)\n",
    "\n",
    "generate_button = tk.Button(root, text=\"Generate Bill\", command=generate_bill)\n",
    "generate_button.grid(row=3, column=0, columnspan=2, pady=10)\n",
    "\n",
    "bill_label = tk.Label(root, text=\"\")\n",
    "bill_label.grid(row=4, column=0, columnspan=2)\n",
    "\n",
    "root.mainloop()\n"
   ]
  },
  {
   "cell_type": "code",
   "execution_count": null,
   "id": "eddd9fdb",
   "metadata": {},
   "outputs": [],
   "source": []
  }
 ],
 "metadata": {
  "kernelspec": {
   "display_name": "Python 3 (ipykernel)",
   "language": "python",
   "name": "python3"
  },
  "language_info": {
   "codemirror_mode": {
    "name": "ipython",
    "version": 3
   },
   "file_extension": ".py",
   "mimetype": "text/x-python",
   "name": "python",
   "nbconvert_exporter": "python",
   "pygments_lexer": "ipython3",
   "version": "3.9.12"
  }
 },
 "nbformat": 4,
 "nbformat_minor": 5
}
